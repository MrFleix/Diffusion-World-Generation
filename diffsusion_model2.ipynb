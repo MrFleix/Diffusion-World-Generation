{
 "cells": [
  {
   "cell_type": "code",
   "execution_count": 19,
   "metadata": {},
   "outputs": [
    {
     "data": {
      "text/plain": [
       "'\\nimport os\\nfrom PIL import Image\\nimport torch\\nfrom torch.utils.data import Dataset, DataLoader\\nfrom torchvision import transforms\\nimport numpy as np\\n\\n\\n\\nclass PatchDataset(Dataset):\\n    def __init__(self, image_dir, patch_size=100, transform=None):\\n        self.image_paths = [os.path.join(image_dir, f) for f in os.listdir(image_dir) if f.endswith(\".jpg\")]\\n        self.patch_size = patch_size\\n        self.transform = transform\\n        self.patches = []\\n\\n        # Extrahiere alle Patches beim Init\\n        for path in self.image_paths:\\n            img = Image.open(path).convert(\"RGB\")\\n            w, h = img.size\\n            for i in range(0, h, patch_size):\\n                for j in range(0, w, patch_size):\\n                    if i+patch_size <= h and j+patch_size <= w:\\n                        patch = img.crop((j, i, j+patch_size, i+patch_size))\\n                        self.patches.append(patch)\\n\\n    def __len__(self):\\n        return len(self.patches)\\n\\n    def __getitem__(self, idx):\\n        img = self.patches[idx]\\n        if self.transform:\\n            img = self.transform(img)\\n        return img\\n\\ntransform = transforms.Compose([\\n    transforms.ToTensor(),             # [0,1]\\n    transforms.Lambda(lambda x: x * 2 - 1)  # [-1,1]\\n])\\n\\n\\n\\n\\ndataset = PatchDataset(\"data/aerialimagelabeling/train/104_sat.jpg\", transform=transform)\\ndataloader = DataLoader(dataset, batch_size=64, shuffle=True)\\n'"
      ]
     },
     "execution_count": 19,
     "metadata": {},
     "output_type": "execute_result"
    }
   ],
   "source": [
    "\"\"\"\n",
    "import os\n",
    "from PIL import Image\n",
    "import torch\n",
    "from torch.utils.data import Dataset, DataLoader\n",
    "from torchvision import transforms\n",
    "import numpy as np\n",
    "\n",
    "\n",
    "\n",
    "class PatchDataset(Dataset):\n",
    "    def __init__(self, image_dir, patch_size=100, transform=None):\n",
    "        self.image_paths = [os.path.join(image_dir, f) for f in os.listdir(image_dir) if f.endswith(\".jpg\")]\n",
    "        self.patch_size = patch_size\n",
    "        self.transform = transform\n",
    "        self.patches = []\n",
    "\n",
    "        # Extrahiere alle Patches beim Init\n",
    "        for path in self.image_paths:\n",
    "            img = Image.open(path).convert(\"RGB\")\n",
    "            w, h = img.size\n",
    "            for i in range(0, h, patch_size):\n",
    "                for j in range(0, w, patch_size):\n",
    "                    if i+patch_size <= h and j+patch_size <= w:\n",
    "                        patch = img.crop((j, i, j+patch_size, i+patch_size))\n",
    "                        self.patches.append(patch)\n",
    "\n",
    "    def __len__(self):\n",
    "        return len(self.patches)\n",
    "\n",
    "    def __getitem__(self, idx):\n",
    "        img = self.patches[idx]\n",
    "        if self.transform:\n",
    "            img = self.transform(img)\n",
    "        return img\n",
    "\n",
    "transform = transforms.Compose([\n",
    "    transforms.ToTensor(),             # [0,1]\n",
    "    transforms.Lambda(lambda x: x * 2 - 1)  # [-1,1]\n",
    "])\n",
    "\n",
    "\n",
    "\n",
    "\n",
    "dataset = PatchDataset(\"data/aerialimagelabeling/train/104_sat.jpg\", transform=transform)\n",
    "dataloader = DataLoader(dataset, batch_size=64, shuffle=True)\n",
    "\"\"\"\n"
   ]
  },
  {
   "cell_type": "code",
   "execution_count": 20,
   "metadata": {},
   "outputs": [
    {
     "name": "stdout",
     "output_type": "stream",
     "text": [
      "torch.Size([64, 1, 28, 28]) torch.Size([64])\n"
     ]
    }
   ],
   "source": [
    "import torch\n",
    "from torch.utils.data import DataLoader\n",
    "from torchvision import transforms\n",
    "from torchvision.datasets import FashionMNIST\n",
    "\n",
    "\n",
    "# Transformationen: Tensor + [-1, 1] Normalisierung\n",
    "transform = transforms.Compose([\n",
    "    transforms.ToTensor(),\n",
    "    transforms.Lambda(lambda x: x * 2 - 1)\n",
    "])\n",
    "\n",
    "# MNIST Dataset laden (Training)\n",
    "dataset = FashionMNIST(root=\"data\", train=True, download=True, transform=transform)\n",
    "\n",
    "# DataLoader\n",
    "dataloader = DataLoader(dataset, batch_size=64, shuffle=True)\n",
    "\n",
    "# Testweise ein Batch anzeigen\n",
    "for batch in dataloader:\n",
    "    imgs, labels = batch  # imgs: [64, 1, 28, 28], labels: [64]\n",
    "    print(imgs.shape, labels.shape)\n",
    "    break"
   ]
  },
  {
   "cell_type": "code",
   "execution_count": 21,
   "metadata": {},
   "outputs": [],
   "source": [
    "import torch\n",
    "from torch.utils.data import DataLoader\n",
    "from torchvision import transforms\n",
    "from torchvision.datasets import CIFAR10\n",
    "\n",
    "\n",
    "# Transformationen: Tensor + [-1, 1] Normalisierung\n",
    "transform = transforms.Compose([\n",
    "    transforms.ToTensor(),\n",
    "    transforms.Lambda(lambda x: x * 2 - 1)\n",
    "])\n",
    "\n",
    "dataset = CIFAR10(root='./data', train=True, download=True, transform=transform)\n",
    "dataloader = DataLoader(train_dataset, batch_size=64, shuffle=True)"
   ]
  },
  {
   "cell_type": "code",
   "execution_count": 22,
   "metadata": {},
   "outputs": [],
   "source": [
    "def linear_beta_schedule(timesteps):\n",
    "    beta_start = 1e-4\n",
    "    beta_end = 0.02\n",
    "    return torch.linspace(beta_start, beta_end, timesteps)\n",
    "\n",
    "timesteps = 1000\n",
    "betas = linear_beta_schedule(timesteps)\n",
    "\n",
    "alphas = 1. - betas\n",
    "alphas_cumprod = torch.cumprod(alphas, dim=0)\n",
    "sqrt_alphas_cumprod = torch.sqrt(alphas_cumprod)\n",
    "sqrt_one_minus_alphas_cumprod = torch.sqrt(1 - alphas_cumprod)\n",
    "\n",
    "def q_sample(x_start, t, noise=None):\n",
    "    if noise is None:\n",
    "        noise = torch.randn_like(x_start)\n",
    "    sqrt_alpha = sqrt_alphas_cumprod[t][:, None, None, None]\n",
    "    sqrt_one_minus_alpha = sqrt_one_minus_alphas_cumprod[t][:, None, None, None]\n",
    "    return sqrt_alpha * x_start + sqrt_one_minus_alpha * noise\n"
   ]
  },
  {
   "cell_type": "code",
   "execution_count": 23,
   "metadata": {},
   "outputs": [],
   "source": [
    "# Beispiel: Zeitembedding\n",
    "B, time_emb_dim = 1, 128\n",
    "C1, H, W = 64, 28, 28  # Beispielwerte\n",
    "\n",
    "t = torch.tensor([10.0])  # Zeitschritt\n",
    "time_mlp = torch.nn.Sequential(\n",
    "    torch.nn.Linear(1, 128),\n",
    "    torch.nn.ReLU(),\n",
    "    torch.nn.Linear(128, time_emb_dim)\n",
    ")\n",
    "\n",
    "time_linear1 = torch.nn.Linear(time_emb_dim, C1)\n",
    "\n",
    "# Featuremap simulieren\n",
    "x1 = torch.randn((B, C1, H, W))\n",
    "\n",
    "# Time Embedding generieren\n",
    "t_emb = time_mlp(t.unsqueeze(0))        # [1, 128]\n",
    "t1 = time_linear1(t_emb).unsqueeze(-1).unsqueeze(-1)  # [1, 64, 1, 1]"
   ]
  },
  {
   "cell_type": "code",
   "execution_count": 36,
   "metadata": {},
   "outputs": [],
   "source": [
    "import torch.nn as nn\n",
    "import math\n",
    "\n",
    "class SinusoidalPosEmb(nn.Module):\n",
    "    def __init__(self, dim):\n",
    "        super().__init__()\n",
    "        self.dim = dim\n",
    "\n",
    "    def forward(self, t):\n",
    "        device = t.device\n",
    "        half_dim = self.dim // 2\n",
    "        emb = math.log(10000) / (half_dim - 1)\n",
    "        emb = torch.exp(torch.arange(half_dim, device=device) * -emb)\n",
    "        emb = t[:, None] * emb[None, :]\n",
    "        return torch.cat([emb.sin(), emb.cos()], dim=-1)\n",
    "\n",
    "def conv_block(in_c, out_c):\n",
    "    return nn.Sequential(\n",
    "        nn.Conv2d(in_c, out_c, 3, padding=1),\n",
    "        nn.ReLU(),\n",
    "        nn.Conv2d(out_c, out_c, 3, padding=1),\n",
    "        nn.ReLU()\n",
    "    )\n",
    "\n",
    "class UNet(nn.Module):\n",
    "    def __init__(self, in_channels=3, base_channels=64, time_emb_dim=256):\n",
    "        super(UNet, self).__init__()\n",
    "        self.time_mlp = nn.Sequential(\n",
    "            SinusoidalPosEmb(time_emb_dim),\n",
    "            nn.Linear(time_emb_dim, time_emb_dim),\n",
    "            nn.ReLU()\n",
    "        )\n",
    "\n",
    "        self.conv1 = conv_block(in_channels, base_channels)\n",
    "        self.conv2 = conv_block(base_channels, base_channels * 2)\n",
    "        self.pool = nn.MaxPool2d(2)\n",
    "        self.up = nn.ConvTranspose2d(base_channels * 2, base_channels, 2, stride=2)\n",
    "        self.out_conv = nn.Conv2d(base_channels, in_channels, 1)\n",
    "\n",
    "        self.time_linear1 = nn.Linear(time_emb_dim, base_channels)\n",
    "        self.time_linear2 = nn.Linear(time_emb_dim, base_channels * 2)\n",
    "\n",
    "    def forward(self, x, t):\n",
    "        t_emb = self.time_mlp(t)  # [B, time_emb_dim]\n",
    "        t1 = self.time_linear1(t_emb).unsqueeze(-1).unsqueeze(-1)  # [B, C1, 1, 1]\n",
    "        t2 = self.time_linear2(t_emb).unsqueeze(-1).unsqueeze(-1)  # [B, C2, 1, 1]\n",
    "\n",
    "        x1 = self.conv1(x) + t1  # [B, C1, H, W]\n",
    "        x2 = self.conv2(self.pool(x1)) + t2  # [B, C2, H/2, W/2]\n",
    "        x3 = self.up(x2)  # [B, C1, H, W]\n",
    "        x_out = self.out_conv(x3 + x1)  # Skip Connection\n",
    "        return x_out\n"
   ]
  },
  {
   "cell_type": "code",
   "execution_count": 25,
   "metadata": {},
   "outputs": [
    {
     "name": "stdout",
     "output_type": "stream",
     "text": [
      "Epoch 1: loss = 0.1138\n",
      "Epoch 2: loss = 0.1059\n",
      "Epoch 3: loss = 0.0879\n"
     ]
    }
   ],
   "source": [
    "device = \"cuda\" if torch.cuda.is_available() else \"cpu\"\n",
    "model = UNet().to(device)\n",
    "optimizer = torch.optim.Adam(model.parameters(), lr=1e-4)\n",
    "loss_fn = nn.MSELoss()\n",
    "\n",
    "epochs = 3\n",
    "\n",
    "for epoch in range(epochs):\n",
    "    for x, _ in dataloader:\n",
    "        x = x.to(device)\n",
    "        t = torch.randint(0, timesteps, (x.size(0),), device=device).long()\n",
    "        noise = torch.randn_like(x)\n",
    "        x_noisy = q_sample(x, t, noise)\n",
    "        predicted_noise = model(x_noisy, t.float())\n",
    "\n",
    "        loss = loss_fn(predicted_noise, noise)\n",
    "        optimizer.zero_grad()\n",
    "        loss.backward()\n",
    "\n",
    "        optimizer.step()\n",
    "\n",
    "    print(f\"Epoch {epoch+1}: loss = {loss.item():.4f}\")\n"
   ]
  },
  {
   "cell_type": "code",
   "execution_count": 42,
   "metadata": {},
   "outputs": [
    {
     "data": {
      "image/png": "[encoded data removed]",
      "text/plain": [
       "<Figure size 640x480 with 1 Axes>"
      ]
     },
     "metadata": {},
     "output_type": "display_data"
    }
   ],
   "source": [
    "\n",
    "import torch\n",
    "\n",
    "def sample(model, img_size=32, n=1, timesteps=1000):\n",
    "    device = next(model.parameters()).device  # Das Gerät des Modells ermitteln\n",
    "    model.eval()  # Setze das Modell in den Evaluierungsmodus\n",
    "    x = torch.randn((n, 3, img_size, img_size), device=device)  # Starte mit Rauschen (3 Kanäle für RGB)\n",
    "\n",
    "    # Beispielwerte für alpha, alpha_hat und beta (müssen angepasst werden)\n",
    "    alpha = torch.tensor(0.9, device=device)  # Umwandlung in Tensor\n",
    "    alpha_hat = torch.tensor(0.8, device=device)  # Umwandlung in Tensor\n",
    "    beta = torch.tensor(0.1, device=device)  # Umwandlung in Tensor\n",
    "\n",
    "    # Iteriere über die Timesteps\n",
    "    for t in reversed(range(timesteps)):\n",
    "        t_batch = torch.full((n,), t, device=device, dtype=torch.float)  # Zeitinformationen für diesen Schritt\n",
    "        t_emb = model.time_mlp(t_batch)  # Berechne die Zeitembeddings\n",
    "\n",
    "        # Zeiteinbettung für das Modell\n",
    "        t1 = model.time_linear1(t_emb).unsqueeze(-1).unsqueeze(-1)\n",
    "        t2 = model.time_linear2(t_emb).unsqueeze(-1).unsqueeze(-1)\n",
    "\n",
    "        # Vorhersage des Rauschens\n",
    "        pred_noise = model(x, t_batch)  # Vorhersage des Rauschens (x_out enthält das bereinigte Bild)\n",
    "        \n",
    "        # Berechne das Bild für den nächsten Schritt\n",
    "        if t > 0:\n",
    "            noise = torch.randn_like(x)  # Füge Rauschen hinzu, außer im letzten Schritt\n",
    "        else:\n",
    "            noise = 0\n",
    "\n",
    "        # Verfeinerung des Bildes unter Verwendung des vorhersagten Rauschens\n",
    "        x = (1 / torch.sqrt(alpha)) * (x - ((1 - alpha) / torch.sqrt(1 - alpha_hat)) * pred_noise) + torch.sqrt(beta) * noise\n",
    "\n",
    "    return x\n",
    "\n",
    "# Initialisiere Modell und verschiebe es auf das richtige Gerät\n",
    "device = torch.device(\"cuda\" if torch.cuda.is_available() else \"cpu\")\n",
    "model = UNet().to(device)\n",
    "\n",
    "# Generiere ein Sample\n",
    "samples = sample(model, img_size=32, n=1, timesteps=1000)\n",
    "\n",
    "# Visualisiere das Ergebnis\n",
    "import matplotlib.pyplot as plt\n",
    "samples = (samples.clamp(-1, 1) + 1) / 2  # Skaliere zurück auf [0, 1]\n",
    "plt.imshow(samples[0].permute(1, 2, 0).cpu().detach().numpy())  # Zeige das erste Sample\n",
    "plt.show()\n"
   ]
  },
  {
   "cell_type": "code",
   "execution_count": null,
   "metadata": {},
   "outputs": [],
   "source": []
  },
  {
   "cell_type": "code",
   "execution_count": 34,
   "metadata": {},
   "outputs": [],
   "source": []
  },
  {
   "cell_type": "code",
   "execution_count": 39,
   "metadata": {},
   "outputs": [
    {
     "ename": "TypeError",
     "evalue": "Module.eval() missing 1 required positional argument: 'self'",
     "output_type": "error",
     "traceback": [
      "\u001b[31m---------------------------------------------------------------------------\u001b[39m",
      "\u001b[31mTypeError\u001b[39m                                 Traceback (most recent call last)",
      "\u001b[36mCell\u001b[39m\u001b[36m \u001b[39m\u001b[32mIn[39]\u001b[39m\u001b[32m, line 23\u001b[39m\n\u001b[32m     19\u001b[39m         x = (\u001b[32m1\u001b[39m / torch.sqrt(alpha)) * (x - ((\u001b[32m1\u001b[39m - alpha) / torch.sqrt(\u001b[32m1\u001b[39m - alpha_hat)) * pred_noise) + torch.sqrt(beta) * noise\n\u001b[32m     21\u001b[39m     \u001b[38;5;28;01mreturn\u001b[39;00m x\n\u001b[32m---> \u001b[39m\u001b[32m23\u001b[39m samples = \u001b[43msample\u001b[49m\u001b[43m(\u001b[49m\u001b[43mUNet\u001b[49m\u001b[43m)\u001b[49m\n\u001b[32m     24\u001b[39m samples = (samples.clamp(-\u001b[32m1\u001b[39m, \u001b[32m1\u001b[39m) + \u001b[32m1\u001b[39m) / \u001b[32m2\u001b[39m  \u001b[38;5;66;03m# zurück auf [0,1]\u001b[39;00m\n\u001b[32m     26\u001b[39m \u001b[38;5;66;03m# Visualisiere ein Beispiel\u001b[39;00m\n",
      "\u001b[36mCell\u001b[39m\u001b[36m \u001b[39m\u001b[32mIn[39]\u001b[39m\u001b[32m, line 2\u001b[39m, in \u001b[36msample\u001b[39m\u001b[34m(model, img_size, n)\u001b[39m\n\u001b[32m      1\u001b[39m \u001b[38;5;28;01mdef\u001b[39;00m\u001b[38;5;250m \u001b[39m\u001b[34msample\u001b[39m( model, img_size=\u001b[32m32\u001b[39m, n=\u001b[32m1\u001b[39m):\n\u001b[32m----> \u001b[39m\u001b[32m2\u001b[39m     \u001b[43mmodel\u001b[49m\u001b[43m.\u001b[49m\u001b[43meval\u001b[49m\u001b[43m(\u001b[49m\u001b[43m)\u001b[49m\n\u001b[32m      3\u001b[39m     x = torch.randn((n, \u001b[32m3\u001b[39m, img_size, img_size)).to(device)  \u001b[38;5;66;03m# 3 Kanäle für RGB\u001b[39;00m\n\u001b[32m      5\u001b[39m     timesteps = \u001b[32m1000\u001b[39m\n",
      "\u001b[31mTypeError\u001b[39m: Module.eval() missing 1 required positional argument: 'self'"
     ]
    }
   ],
   "source": []
  }
 ],
 "metadata": {
  "kernelspec": {
   "display_name": ".venv",
   "language": "python",
   "name": "python3"
  },
  "language_info": {
   "codemirror_mode": {
    "name": "ipython",
    "version": 3
   },
   "file_extension": ".py",
   "mimetype": "text/x-python",
   "name": "python",
   "nbconvert_exporter": "python",
   "pygments_lexer": "ipython3",
   "version": "3.11.0"
  }
 },
 "nbformat": 4,
 "nbformat_minor": 2
}
