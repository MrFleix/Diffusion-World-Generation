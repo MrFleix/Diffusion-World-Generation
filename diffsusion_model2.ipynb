{
 "cells": [
  {
   "cell_type": "code",
<<<<<<< HEAD
   "execution_count": 7,
=======
   "execution_count": 19,
>>>>>>> bea494f923dfc6c4268d9ae54d4b438332e400cd
   "metadata": {},
   "outputs": [
    {
     "data": {
      "text/plain": [
       "'\\nimport os\\nfrom PIL import Image\\nimport torch\\nfrom torch.utils.data import Dataset, DataLoader\\nfrom torchvision import transforms\\nimport numpy as np\\n\\n\\n\\nclass PatchDataset(Dataset):\\n    def __init__(self, image_dir, patch_size=100, transform=None):\\n        self.image_paths = [os.path.join(image_dir, f) for f in os.listdir(image_dir) if f.endswith(\".jpg\")]\\n        self.patch_size = patch_size\\n        self.transform = transform\\n        self.patches = []\\n\\n        # Extrahiere alle Patches beim Init\\n        for path in self.image_paths:\\n            img = Image.open(path).convert(\"RGB\")\\n            w, h = img.size\\n            for i in range(0, h, patch_size):\\n                for j in range(0, w, patch_size):\\n                    if i+patch_size <= h and j+patch_size <= w:\\n                        patch = img.crop((j, i, j+patch_size, i+patch_size))\\n                        self.patches.append(patch)\\n\\n    def __len__(self):\\n        return len(self.patches)\\n\\n    def __getitem__(self, idx):\\n        img = self.patches[idx]\\n        if self.transform:\\n            img = self.transform(img)\\n        return img\\n\\ntransform = transforms.Compose([\\n    transforms.ToTensor(),             # [0,1]\\n    transforms.Lambda(lambda x: x * 2 - 1)  # [-1,1]\\n])\\n\\n\\n\\n\\ndataset = PatchDataset(\"data/aerialimagelabeling/train/104_sat.jpg\", transform=transform)\\ndataloader = DataLoader(dataset, batch_size=64, shuffle=True)\\n'"
      ]
     },
<<<<<<< HEAD
     "execution_count": 7,
=======
     "execution_count": 19,
>>>>>>> bea494f923dfc6c4268d9ae54d4b438332e400cd
     "metadata": {},
     "output_type": "execute_result"
    }
   ],
   "source": [
    "\"\"\"\n",
    "import os\n",
    "from PIL import Image\n",
    "import torch\n",
    "from torch.utils.data import Dataset, DataLoader\n",
    "from torchvision import transforms\n",
    "import numpy as np\n",
    "\n",
    "\n",
    "\n",
    "class PatchDataset(Dataset):\n",
    "    def __init__(self, image_dir, patch_size=100, transform=None):\n",
    "        self.image_paths = [os.path.join(image_dir, f) for f in os.listdir(image_dir) if f.endswith(\".jpg\")]\n",
    "        self.patch_size = patch_size\n",
    "        self.transform = transform\n",
    "        self.patches = []\n",
    "\n",
    "        # Extrahiere alle Patches beim Init\n",
    "        for path in self.image_paths:\n",
    "            img = Image.open(path).convert(\"RGB\")\n",
    "            w, h = img.size\n",
    "            for i in range(0, h, patch_size):\n",
    "                for j in range(0, w, patch_size):\n",
    "                    if i+patch_size <= h and j+patch_size <= w:\n",
    "                        patch = img.crop((j, i, j+patch_size, i+patch_size))\n",
    "                        self.patches.append(patch)\n",
    "\n",
    "    def __len__(self):\n",
    "        return len(self.patches)\n",
    "\n",
    "    def __getitem__(self, idx):\n",
    "        img = self.patches[idx]\n",
    "        if self.transform:\n",
    "            img = self.transform(img)\n",
    "        return img\n",
    "\n",
    "transform = transforms.Compose([\n",
    "    transforms.ToTensor(),             # [0,1]\n",
    "    transforms.Lambda(lambda x: x * 2 - 1)  # [-1,1]\n",
    "])\n",
    "\n",
    "\n",
    "\n",
    "\n",
    "dataset = PatchDataset(\"data/aerialimagelabeling/train/104_sat.jpg\", transform=transform)\n",
    "dataloader = DataLoader(dataset, batch_size=64, shuffle=True)\n",
    "\"\"\"\n"
   ]
  },
  {
   "cell_type": "code",
<<<<<<< HEAD
   "execution_count": 8,
=======
   "execution_count": 20,
>>>>>>> bea494f923dfc6c4268d9ae54d4b438332e400cd
   "metadata": {},
   "outputs": [
    {
     "name": "stdout",
     "output_type": "stream",
     "text": [
      "torch.Size([64, 1, 28, 28]) torch.Size([64])\n"
     ]
    }
   ],
   "source": [
    "import torch\n",
    "from torch.utils.data import DataLoader\n",
    "from torchvision import transforms\n",
    "from torchvision.datasets import FashionMNIST\n",
    "\n",
    "\n",
    "# Transformationen: Tensor + [-1, 1] Normalisierung\n",
    "transform = transforms.Compose([\n",
    "    transforms.ToTensor(),\n",
    "    transforms.Lambda(lambda x: x * 2 - 1)\n",
    "])\n",
    "\n",
    "# MNIST Dataset laden (Training)\n",
    "dataset = FashionMNIST(root=\"data\", train=True, download=True, transform=transform)\n",
    "\n",
    "# DataLoader\n",
    "dataloader = DataLoader(dataset, batch_size=64, shuffle=True)\n",
    "\n",
    "# Testweise ein Batch anzeigen\n",
    "for batch in dataloader:\n",
    "    imgs, labels = batch  # imgs: [64, 1, 28, 28], labels: [64]\n",
    "    print(imgs.shape, labels.shape)\n",
    "    break"
   ]
  },
  {
   "cell_type": "code",
<<<<<<< HEAD
   "execution_count": 9,
=======
   "execution_count": 21,
>>>>>>> bea494f923dfc6c4268d9ae54d4b438332e400cd
   "metadata": {},
   "outputs": [],
   "source": [
    "import torch\n",
    "from torch.utils.data import DataLoader\n",
    "from torchvision import transforms\n",
    "from torchvision.datasets import CIFAR10\n",
    "\n",
    "\n",
    "# Transformationen: Tensor + [-1, 1] Normalisierung\n",
    "transform = transforms.Compose([\n",
    "    transforms.ToTensor(),\n",
    "    transforms.Lambda(lambda x: x * 2 - 1)\n",
    "])\n",
    "\n",
    "dataset = CIFAR10(root='./data', train=True, download=True, transform=transform)\n",
<<<<<<< HEAD
    "dataloader = DataLoader(dataset, batch_size=64, shuffle=True)"
=======
    "dataloader = DataLoader(train_dataset, batch_size=64, shuffle=True)"
>>>>>>> bea494f923dfc6c4268d9ae54d4b438332e400cd
   ]
  },
  {
   "cell_type": "code",
<<<<<<< HEAD
   "execution_count": 10,
=======
   "execution_count": 22,
>>>>>>> bea494f923dfc6c4268d9ae54d4b438332e400cd
   "metadata": {},
   "outputs": [],
   "source": [
    "def linear_beta_schedule(timesteps):\n",
    "    beta_start = 1e-4\n",
    "    beta_end = 0.02\n",
    "    return torch.linspace(beta_start, beta_end, timesteps)\n",
    "\n",
    "timesteps = 1000\n",
    "betas = linear_beta_schedule(timesteps)\n",
    "\n",
    "alphas = 1. - betas\n",
    "alphas_cumprod = torch.cumprod(alphas, dim=0)\n",
    "sqrt_alphas_cumprod = torch.sqrt(alphas_cumprod)\n",
    "sqrt_one_minus_alphas_cumprod = torch.sqrt(1 - alphas_cumprod)\n",
    "\n",
    "def q_sample(x_start, t, noise=None):\n",
    "    if noise is None:\n",
    "        noise = torch.randn_like(x_start)\n",
    "    sqrt_alpha = sqrt_alphas_cumprod[t][:, None, None, None]\n",
    "    sqrt_one_minus_alpha = sqrt_one_minus_alphas_cumprod[t][:, None, None, None]\n",
    "    return sqrt_alpha * x_start + sqrt_one_minus_alpha * noise\n"
   ]
  },
  {
   "cell_type": "code",
<<<<<<< HEAD
   "execution_count": 11,
=======
   "execution_count": 23,
>>>>>>> bea494f923dfc6c4268d9ae54d4b438332e400cd
   "metadata": {},
   "outputs": [],
   "source": [
    "# Beispiel: Zeitembedding\n",
    "B, time_emb_dim = 1, 128\n",
    "C1, H, W = 64, 28, 28  # Beispielwerte\n",
    "\n",
    "t = torch.tensor([10.0])  # Zeitschritt\n",
    "time_mlp = torch.nn.Sequential(\n",
    "    torch.nn.Linear(1, 128),\n",
    "    torch.nn.ReLU(),\n",
    "    torch.nn.Linear(128, time_emb_dim)\n",
    ")\n",
    "\n",
    "time_linear1 = torch.nn.Linear(time_emb_dim, C1)\n",
    "\n",
    "# Featuremap simulieren\n",
    "x1 = torch.randn((B, C1, H, W))\n",
    "\n",
    "# Time Embedding generieren\n",
    "t_emb = time_mlp(t.unsqueeze(0))        # [1, 128]\n",
    "t1 = time_linear1(t_emb).unsqueeze(-1).unsqueeze(-1)  # [1, 64, 1, 1]"
   ]
  },
  {
   "cell_type": "code",
<<<<<<< HEAD
   "execution_count": 12,
=======
   "execution_count": 36,
>>>>>>> bea494f923dfc6c4268d9ae54d4b438332e400cd
   "metadata": {},
   "outputs": [],
   "source": [
    "import torch.nn as nn\n",
    "import math\n",
    "\n",
    "class SinusoidalPosEmb(nn.Module):\n",
    "    def __init__(self, dim):\n",
    "        super().__init__()\n",
    "        self.dim = dim\n",
    "\n",
    "    def forward(self, t):\n",
    "        device = t.device\n",
    "        half_dim = self.dim // 2\n",
    "        emb = math.log(10000) / (half_dim - 1)\n",
    "        emb = torch.exp(torch.arange(half_dim, device=device) * -emb)\n",
    "        emb = t[:, None] * emb[None, :]\n",
    "        return torch.cat([emb.sin(), emb.cos()], dim=-1)\n",
    "\n",
    "def conv_block(in_c, out_c):\n",
    "    return nn.Sequential(\n",
    "        nn.Conv2d(in_c, out_c, 3, padding=1),\n",
    "        nn.ReLU(),\n",
    "        nn.Conv2d(out_c, out_c, 3, padding=1),\n",
    "        nn.ReLU()\n",
    "    )\n",
    "\n",
    "class UNet(nn.Module):\n",
    "    def __init__(self, in_channels=3, base_channels=64, time_emb_dim=256):\n",
    "        super(UNet, self).__init__()\n",
    "        self.time_mlp = nn.Sequential(\n",
    "            SinusoidalPosEmb(time_emb_dim),\n",
    "            nn.Linear(time_emb_dim, time_emb_dim),\n",
    "            nn.ReLU()\n",
    "        )\n",
    "\n",
    "        self.conv1 = conv_block(in_channels, base_channels)\n",
    "        self.conv2 = conv_block(base_channels, base_channels * 2)\n",
    "        self.pool = nn.MaxPool2d(2)\n",
    "        self.up = nn.ConvTranspose2d(base_channels * 2, base_channels, 2, stride=2)\n",
    "        self.out_conv = nn.Conv2d(base_channels, in_channels, 1)\n",
    "\n",
    "        self.time_linear1 = nn.Linear(time_emb_dim, base_channels)\n",
    "        self.time_linear2 = nn.Linear(time_emb_dim, base_channels * 2)\n",
    "\n",
    "    def forward(self, x, t):\n",
    "        t_emb = self.time_mlp(t)  # [B, time_emb_dim]\n",
    "        t1 = self.time_linear1(t_emb).unsqueeze(-1).unsqueeze(-1)  # [B, C1, 1, 1]\n",
    "        t2 = self.time_linear2(t_emb).unsqueeze(-1).unsqueeze(-1)  # [B, C2, 1, 1]\n",
    "\n",
    "        x1 = self.conv1(x) + t1  # [B, C1, H, W]\n",
    "        x2 = self.conv2(self.pool(x1)) + t2  # [B, C2, H/2, W/2]\n",
    "        x3 = self.up(x2)  # [B, C1, H, W]\n",
    "        x_out = self.out_conv(x3 + x1)  # Skip Connection\n",
    "        return x_out\n"
   ]
  },
  {
   "cell_type": "code",
<<<<<<< HEAD
   "execution_count": 58,
   "metadata": {},
   "outputs": [],
   "source": [
    "class LatentEncoder(nn.Module):\n",
    "    def __init__(self, in_channels=3, latent_dim=4):\n",
    "        super().__init__()\n",
    "        self.encoder = nn.Sequential(\n",
    "            nn.Conv2d(in_channels, 16, 4, 2, 1),  # 32 → 16\n",
    "            nn.ReLU(),\n",
    "            nn.Conv2d(16, 32, 4, 2, 1),           # 16 → 8\n",
    "            nn.ReLU(),\n",
    "            nn.Conv2d(32, latent_dim, 3, 1, 1),   # bleibt 8x8\n",
    "        )\n",
    "\n",
    "    def forward(self, x):\n",
    "        return self.encoder(x)\n",
    "\n",
    "class LatentDecoder(nn.Module):\n",
    "    def __init__(self, latent_dim=4, out_channels=3):\n",
    "        super().__init__()\n",
    "        self.decoder = nn.Sequential(\n",
    "            nn.ConvTranspose2d(latent_dim, 32, 4, 2, 1),  # 8 → 16\n",
    "            nn.ReLU(),\n",
    "            nn.ConvTranspose2d(32, 16, 4, 2, 1),          # 16 → 32\n",
    "            nn.ReLU(),\n",
    "            nn.Conv2d(16, out_channels, 3, 1, 1),\n",
    "            nn.Tanh()  # Output in [-1, 1]\n",
    "        )\n",
    "\n",
    "    def forward(self, z):\n",
    "        return self.decoder(z)"
   ]
  },
  {
   "cell_type": "code",
   "execution_count": 59,
=======
   "execution_count": 25,
>>>>>>> bea494f923dfc6c4268d9ae54d4b438332e400cd
   "metadata": {},
   "outputs": [
    {
     "name": "stdout",
     "output_type": "stream",
     "text": [
<<<<<<< HEAD
      "Epoch 1: MSE Loss = 0.0456\n",
      "Epoch 2: MSE Loss = 0.0165\n",
      "Epoch 3: MSE Loss = 0.0140\n",
      "Epoch 4: MSE Loss = 0.0132\n",
      "Epoch 5: MSE Loss = 0.0129\n",
      "Epoch 6: MSE Loss = 0.0126\n",
      "Epoch 7: MSE Loss = 0.0124\n",
      "Epoch 8: MSE Loss = 0.0123\n",
      "Epoch 9: MSE Loss = 0.0122\n",
      "Epoch 10: MSE Loss = 0.0121\n"
=======
      "Epoch 1: loss = 0.1138\n",
      "Epoch 2: loss = 0.1059\n",
      "Epoch 3: loss = 0.0879\n"
>>>>>>> bea494f923dfc6c4268d9ae54d4b438332e400cd
     ]
    }
   ],
   "source": [
    "import torch\n",
    "import torch.optim as optim\n",
    "\n",
    "device = torch.device(\"cuda\" if torch.cuda.is_available() else \"cpu\")\n",
    "\n",
    "encoder = LatentEncoder().to(device)\n",
    "decoder = LatentDecoder().to(device)\n",
    "\n",
    "# Kombiniertes Optimieren\n",
    "params = list(encoder.parameters()) + list(decoder.parameters())\n",
    "optimizer = optim.Adam(params, lr=1e-3)\n",
    "criterion = nn.MSELoss()\n",
    "\n",
    "num_epochs = 10\n",
    "\n",
    "for epoch in range(num_epochs):\n",
    "    encoder.train()\n",
    "    decoder.train()\n",
    "    total_loss = 0\n",
    "\n",
    "    for imgs, _ in dataloader:\n",
    "        imgs = imgs.to(device)\n",
    "\n",
    "        z = encoder(imgs)\n",
    "        recon = decoder(z)\n",
    "\n",
    "        loss = criterion(recon, imgs)\n",
    "        optimizer.zero_grad()\n",
    "        loss.backward()\n",
    "\n",
    "        optimizer.step()\n",
    "\n",
    "        total_loss += loss.item() * imgs.size(0)\n",
    "\n",
    "    avg_loss = total_loss / len(dataloader.dataset)\n",
    "    print(f\"Epoch {epoch+1}: MSE Loss = {avg_loss:.4f}\")"
   ]
  },
  {
   "cell_type": "code",
<<<<<<< HEAD
   "execution_count": 60,
=======
   "execution_count": 42,
>>>>>>> bea494f923dfc6c4268d9ae54d4b438332e400cd
   "metadata": {},
   "outputs": [
    {
     "data": {
<<<<<<< HEAD
      "image/png": "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",
=======
      "image/png": "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",
>>>>>>> bea494f923dfc6c4268d9ae54d4b438332e400cd
      "text/plain": [
       "<Figure size 1200x400 with 12 Axes>"
      ]
     },
     "metadata": {},
     "output_type": "display_data"
    }
   ],
   "source": [
    "\n",
<<<<<<< HEAD
    "encoder.eval()\n",
    "decoder.eval()\n",
    "\n",
    "with torch.no_grad():\n",
    "    imgs, _ = next(iter(dataloader))\n",
    "    imgs = imgs.to(device)\n",
    "    z = encoder(imgs)\n",
    "    recon = decoder(z)\n",
    "\n",
    "    # zurückskalieren von [-1, 1] auf [0, 1]\n",
    "    imgs = (imgs + 1) / 2\n",
    "    recon = (recon + 1) / 2\n",
    "\n",
    "    fig, axs = plt.subplots(2, 6, figsize=(12, 4))\n",
    "    for i in range(6):\n",
    "        axs[0, i].imshow(imgs[i].permute(1, 2, 0).cpu())\n",
    "        axs[0, i].axis(\"off\")\n",
    "        axs[1, i].imshow(recon[i].permute(1, 2, 0).cpu())\n",
    "        axs[1, i].axis(\"off\")\n",
    "    axs[0, 0].set_title(\"Original\")\n",
    "    axs[1, 0].set_title(\"Rekonstruktion\")\n",
    "    plt.tight_layout()\n",
    "    plt.show()"
=======
    "import torch\n",
    "\n",
    "def sample(model, img_size=32, n=1, timesteps=1000):\n",
    "    device = next(model.parameters()).device  # Das Gerät des Modells ermitteln\n",
    "    model.eval()  # Setze das Modell in den Evaluierungsmodus\n",
    "    x = torch.randn((n, 3, img_size, img_size), device=device)  # Starte mit Rauschen (3 Kanäle für RGB)\n",
    "\n",
    "    # Beispielwerte für alpha, alpha_hat und beta (müssen angepasst werden)\n",
    "    alpha = torch.tensor(0.9, device=device)  # Umwandlung in Tensor\n",
    "    alpha_hat = torch.tensor(0.8, device=device)  # Umwandlung in Tensor\n",
    "    beta = torch.tensor(0.1, device=device)  # Umwandlung in Tensor\n",
    "\n",
    "    # Iteriere über die Timesteps\n",
    "    for t in reversed(range(timesteps)):\n",
    "        t_batch = torch.full((n,), t, device=device, dtype=torch.float)  # Zeitinformationen für diesen Schritt\n",
    "        t_emb = model.time_mlp(t_batch)  # Berechne die Zeitembeddings\n",
    "\n",
    "        # Zeiteinbettung für das Modell\n",
    "        t1 = model.time_linear1(t_emb).unsqueeze(-1).unsqueeze(-1)\n",
    "        t2 = model.time_linear2(t_emb).unsqueeze(-1).unsqueeze(-1)\n",
    "\n",
    "        # Vorhersage des Rauschens\n",
    "        pred_noise = model(x, t_batch)  # Vorhersage des Rauschens (x_out enthält das bereinigte Bild)\n",
    "        \n",
    "        # Berechne das Bild für den nächsten Schritt\n",
    "        if t > 0:\n",
    "            noise = torch.randn_like(x)  # Füge Rauschen hinzu, außer im letzten Schritt\n",
    "        else:\n",
    "            noise = 0\n",
    "\n",
    "        # Verfeinerung des Bildes unter Verwendung des vorhersagten Rauschens\n",
    "        x = (1 / torch.sqrt(alpha)) * (x - ((1 - alpha) / torch.sqrt(1 - alpha_hat)) * pred_noise) + torch.sqrt(beta) * noise\n",
    "\n",
    "    return x\n",
    "\n",
    "# Initialisiere Modell und verschiebe es auf das richtige Gerät\n",
    "device = torch.device(\"cuda\" if torch.cuda.is_available() else \"cpu\")\n",
    "model = UNet().to(device)\n",
    "\n",
    "# Generiere ein Sample\n",
    "samples = sample(model, img_size=32, n=1, timesteps=1000)\n",
    "\n",
    "# Visualisiere das Ergebnis\n",
    "import matplotlib.pyplot as plt\n",
    "samples = (samples.clamp(-1, 1) + 1) / 2  # Skaliere zurück auf [0, 1]\n",
    "plt.imshow(samples[0].permute(1, 2, 0).cpu().detach().numpy())  # Zeige das erste Sample\n",
    "plt.show()\n"
>>>>>>> bea494f923dfc6c4268d9ae54d4b438332e400cd
   ]
  },
  {
   "cell_type": "code",
<<<<<<< HEAD
   "execution_count": 62,
   "metadata": {},
   "outputs": [
    {
     "name": "stdout",
     "output_type": "stream",
     "text": [
      "Epoch 1: Loss = 0.177409\n",
      "Epoch 2: Loss = 0.126996\n",
      "Epoch 3: Loss = 0.028880\n",
      "Epoch 4: Loss = 0.027606\n",
      "Epoch 5: Loss = 0.015729\n",
      "Epoch 6: Loss = 0.018941\n",
      "Epoch 7: Loss = 0.012071\n",
      "Epoch 8: Loss = 0.015083\n",
      "Epoch 9: Loss = 0.015296\n",
      "Epoch 10: Loss = 0.065363\n"
     ]
    }
   ],
   "source": [
    "device = \"cuda\" if torch.cuda.is_available() else \"cpu\"\n",
    "\n",
    "# Modelle\n",
    "encoder = LatentEncoder().to(device)\n",
    "decoder = LatentDecoder().to(device)\n",
    "model = UNet(in_channels=4).to(device)  # 4 Latent-Channels statt RGB\n",
    "\n",
    "# Diffusion-Parameter\n",
    "timesteps = 1000\n",
    "betas = torch.linspace(1e-4, 0.02, timesteps).to(device)\n",
    "alphas = 1. - betas\n",
    "alphas_cumprod = torch.cumprod(alphas, dim=0)\n",
    "\n",
    "def q_sample(x_0, t, noise):\n",
    "    sqrt_alpha_hat = torch.sqrt(alphas_cumprod[t]).view(-1, 1, 1, 1)\n",
    "    sqrt_one_minus_alpha_hat = torch.sqrt(1 - alphas_cumprod[t]).view(-1, 1, 1, 1)\n",
    "    return sqrt_alpha_hat * x_0 + sqrt_one_minus_alpha_hat * noise\n",
    "\n",
    "optimizer = torch.optim.Adam(\n",
    "    list(model.parameters()) + list(encoder.parameters()),  # optional decoder auch\n",
    "    lr=1e-4\n",
    ")\n",
    "loss_fn = nn.MSELoss()\n",
    "epochs = 10\n",
    "\n",
    "for epoch in range(epochs):\n",
    "    model.train()\n",
    "    encoder.train()\n",
    "    \n",
    "    for x, _ in dataloader:\n",
    "        x = x.to(device)  # [B, 3, 32, 32]\n",
    "        \n",
    "        # 1. Bild in Latent umwandeln\n",
    "        z_0 = encoder(x)  # [B, 4, 8, 8]\n",
    "        \n",
    "        # 2. Zeitstempel + Rauschen\n",
    "        t = torch.randint(0, timesteps, (x.size(0),), device=device).long()\n",
    "        noise = torch.randn_like(z_0)\n",
    "        \n",
    "        # 3. Forward Diffusion\n",
    "        z_t = q_sample(z_0, t, noise)\n",
    "        \n",
    "        # 4. Rauschvorhersage\n",
    "        pred_noise = model(z_t, t.float())\n",
    "        \n",
    "        # 5. Loss\n",
    "        loss = loss_fn(pred_noise, noise)\n",
    "        \n",
    "        optimizer.zero_grad()\n",
    "        loss.backward()\n",
    "        optimizer.step()\n",
    "\n",
    "    print(f\"Epoch {epoch+1}: Loss = {loss.item():.6f}\")\n"
   ]
  },
  {
   "cell_type": "code",
   "execution_count": 1,
   "metadata": {},
   "outputs": [],
   "source": [
    "\n",
    "import torch\n",
    "\n",
    "def sample(model, timesteps=1000, n=1, latent_shape=(4, 32, 32), decoder=None):\n",
    "    device = next(model.parameters()).device\n",
    "    model.eval()\n",
    "\n",
    "    # Start: reines Rauschen in Latent-Form (oder RGB, wenn du willst → (3, H, W))\n",
    "    x = torch.randn((n, *latent_shape), device=device)\n",
    "\n",
    "    # Diffusion-Parameter vorbereiten\n",
    "    betas = torch.linspace(1e-4, 0.02, timesteps, device=device)\n",
    "    alphas = 1. - betas\n",
    "    alphas_cumprod = torch.cumprod(alphas, dim=0)\n",
    "\n",
    "\n",
    "    alpha = torch.tensor(0.9, device=device)  # Umwandlung in Tensor\n",
    "    alpha_hat = torch.tensor(0.8, device=device)  # Umwandlung in Tensor\n",
    "    beta = torch.tensor(0.1, device=device)  # Umwandlung in Tensor\n",
    "    # Sampling-Schleife rückwärts durch die Zeit\n",
    "    for t in reversed(range(timesteps)):\n",
    "        t_batch = torch.full((n,), t, device=device, dtype=torch.float32)\n",
    "\n",
    "        # Hole Skalare für aktuellen t\n",
    "        alpha = alphas[t].view(-1,1,1,1)\n",
    "        alpha_hat = alphas_cumprod[t].view(-1,1,1,1)\n",
    "        beta = betas[t].view(-1,1,1,1)\n",
    "\n",
    "        # Rauschvorhersage\n",
    "        pred_noise = model(x, t_batch)\n",
    "\n",
    "        # Neues Rauschen (außer im letzten Schritt)\n",
    "        noise = torch.randn_like(x) if t > 0 else 0\n",
    "\n",
    "        # DDPM-Gleichung\n",
    "        x = (1 / torch.sqrt(alpha)) * (\n",
    "            x - ((1 - alpha) / torch.sqrt(1 - alpha_hat)) * pred_noise\n",
    "        ) + torch.sqrt(beta) * noise\n",
    "  \n",
    "    # Optional: durch Decoder schicken\n",
    "    if decoder is not None:\n",
    "        x = decoder(x)\n",
    "\n",
    "    return x"
   ]
  },
  {
   "cell_type": "code",
   "execution_count": 2,
   "metadata": {},
   "outputs": [
    {
     "ename": "NameError",
     "evalue": "name 'model' is not defined",
     "output_type": "error",
     "traceback": [
      "\u001b[31m---------------------------------------------------------------------------\u001b[39m",
      "\u001b[31mNameError\u001b[39m                                 Traceback (most recent call last)",
      "\u001b[36mCell\u001b[39m\u001b[36m \u001b[39m\u001b[32mIn[2]\u001b[39m\u001b[32m, line 2\u001b[39m\n\u001b[32m      1\u001b[39m \u001b[38;5;28;01mwith\u001b[39;00m torch.no_grad():\n\u001b[32m----> \u001b[39m\u001b[32m2\u001b[39m     samples = sample(\u001b[43mmodel\u001b[49m, timesteps=\u001b[32m1000\u001b[39m, n=\u001b[32m4\u001b[39m, latent_shape=(\u001b[32m4\u001b[39m, \u001b[32m32\u001b[39m, \u001b[32m32\u001b[39m), decoder=decoder)\n\u001b[32m      3\u001b[39m     samples = (samples.clamp(-\u001b[32m1\u001b[39m, \u001b[32m1\u001b[39m) + \u001b[32m1\u001b[39m) / \u001b[32m2\u001b[39m  \u001b[38;5;66;03m# zurück in [0, 1]\u001b[39;00m\n\u001b[32m      5\u001b[39m     \u001b[38;5;28;01mfor\u001b[39;00m i \u001b[38;5;129;01min\u001b[39;00m \u001b[38;5;28mrange\u001b[39m(samples.size(\u001b[32m0\u001b[39m)):\n",
      "\u001b[31mNameError\u001b[39m: name 'model' is not defined"
     ]
    }
   ],
   "source": [
    "with torch.no_grad():\n",
    "    samples = sample(model, timesteps=1000, n=4, latent_shape=(4, 32, 32), decoder=decoder)\n",
    "    samples = (samples.clamp(-1, 1) + 1) / 2  # zurück in [0, 1]\n",
    "\n",
    "    for i in range(samples.size(0)):\n",
    "        plt.imshow(samples[i].permute(1, 2, 0).cpu().numpy())\n",
    "        plt.axis(\"off\")\n",
    "        plt.title(f\"Sample {i+1}\")\n",
    "        plt.show()"
   ]
  },
  {
   "cell_type": "code",
   "execution_count": null,
   "metadata": {},
   "outputs": [],
   "source": []
  },
  {
   "cell_type": "code",
   "execution_count": null,
   "metadata": {},
   "outputs": [],
=======
   "execution_count": null,
   "metadata": {},
   "outputs": [],
   "source": []
  },
  {
   "cell_type": "code",
   "execution_count": 34,
   "metadata": {},
   "outputs": [],
   "source": []
  },
  {
   "cell_type": "code",
   "execution_count": 39,
   "metadata": {},
   "outputs": [
    {
     "ename": "TypeError",
     "evalue": "Module.eval() missing 1 required positional argument: 'self'",
     "output_type": "error",
     "traceback": [
      "\u001b[31m---------------------------------------------------------------------------\u001b[39m",
      "\u001b[31mTypeError\u001b[39m                                 Traceback (most recent call last)",
      "\u001b[36mCell\u001b[39m\u001b[36m \u001b[39m\u001b[32mIn[39]\u001b[39m\u001b[32m, line 23\u001b[39m\n\u001b[32m     19\u001b[39m         x = (\u001b[32m1\u001b[39m / torch.sqrt(alpha)) * (x - ((\u001b[32m1\u001b[39m - alpha) / torch.sqrt(\u001b[32m1\u001b[39m - alpha_hat)) * pred_noise) + torch.sqrt(beta) * noise\n\u001b[32m     21\u001b[39m     \u001b[38;5;28;01mreturn\u001b[39;00m x\n\u001b[32m---> \u001b[39m\u001b[32m23\u001b[39m samples = \u001b[43msample\u001b[49m\u001b[43m(\u001b[49m\u001b[43mUNet\u001b[49m\u001b[43m)\u001b[49m\n\u001b[32m     24\u001b[39m samples = (samples.clamp(-\u001b[32m1\u001b[39m, \u001b[32m1\u001b[39m) + \u001b[32m1\u001b[39m) / \u001b[32m2\u001b[39m  \u001b[38;5;66;03m# zurück auf [0,1]\u001b[39;00m\n\u001b[32m     26\u001b[39m \u001b[38;5;66;03m# Visualisiere ein Beispiel\u001b[39;00m\n",
      "\u001b[36mCell\u001b[39m\u001b[36m \u001b[39m\u001b[32mIn[39]\u001b[39m\u001b[32m, line 2\u001b[39m, in \u001b[36msample\u001b[39m\u001b[34m(model, img_size, n)\u001b[39m\n\u001b[32m      1\u001b[39m \u001b[38;5;28;01mdef\u001b[39;00m\u001b[38;5;250m \u001b[39m\u001b[34msample\u001b[39m( model, img_size=\u001b[32m32\u001b[39m, n=\u001b[32m1\u001b[39m):\n\u001b[32m----> \u001b[39m\u001b[32m2\u001b[39m     \u001b[43mmodel\u001b[49m\u001b[43m.\u001b[49m\u001b[43meval\u001b[49m\u001b[43m(\u001b[49m\u001b[43m)\u001b[49m\n\u001b[32m      3\u001b[39m     x = torch.randn((n, \u001b[32m3\u001b[39m, img_size, img_size)).to(device)  \u001b[38;5;66;03m# 3 Kanäle für RGB\u001b[39;00m\n\u001b[32m      5\u001b[39m     timesteps = \u001b[32m1000\u001b[39m\n",
      "\u001b[31mTypeError\u001b[39m: Module.eval() missing 1 required positional argument: 'self'"
     ]
    }
   ],
>>>>>>> bea494f923dfc6c4268d9ae54d4b438332e400cd
   "source": []
  }
 ],
 "metadata": {
  "kernelspec": {
   "display_name": ".venv",
   "language": "python",
   "name": "python3"
  },
  "language_info": {
   "codemirror_mode": {
    "name": "ipython",
    "version": 3
   },
   "file_extension": ".py",
   "mimetype": "text/x-python",
   "name": "python",
   "nbconvert_exporter": "python",
   "pygments_lexer": "ipython3",
   "version": "3.11.0"
  }
 },
 "nbformat": 4,
 "nbformat_minor": 2
}
